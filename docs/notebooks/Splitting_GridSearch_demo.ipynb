{
 "cells": [
  {
   "cell_type": "code",
   "execution_count": 3,
   "metadata": {},
   "outputs": [],
   "source": [
    "project_dir = '../../'\n",
    "import sys\n",
    "sys.path.append(project_dir + 'NN/')\n",
    "import numpy as np\n",
    "import utils.preprocessing as pp"
   ]
  },
  {
   "cell_type": "markdown",
   "metadata": {},
   "source": [
    "## Explain the k-fold algorithm strategy"
   ]
  },
  {
   "cell_type": "code",
   "execution_count": 7,
   "metadata": {},
   "outputs": [
    {
     "name": "stdout",
     "output_type": "stream",
     "text": [
      "Example of dataset\n",
      "[[ 0  1]\n",
      " [ 2  3]\n",
      " [ 4  5]\n",
      " [ 6  7]\n",
      " [ 8  9]\n",
      " [10 11]\n",
      " [12 13]\n",
      " [14 15]\n",
      " [16 17]\n",
      " [18 19]]\n"
     ]
    }
   ],
   "source": [
    "data_test = np.arange(20).reshape((10, 2))\n",
    "print('Example of dataset')\n",
    "print(data_test)"
   ]
  },
  {
   "cell_type": "code",
   "execution_count": 13,
   "metadata": {},
   "outputs": [
    {
     "name": "stdout",
     "output_type": "stream",
     "text": [
      "First element returned is just the dataset (eventually reshuffled):\n",
      "[[ 0  1]\n",
      " [ 2  3]\n",
      " [ 4  5]\n",
      " [ 6  7]\n",
      " [ 8  9]\n",
      " [10 11]\n",
      " [12 13]\n",
      " [14 15]\n",
      " [16 17]\n",
      " [18 19]]\n",
      "\n",
      "The second element returned is a list of tuple containing 2 index:\n",
      "[(0, 3), (3, 6), (6, 10)]\n"
     ]
    }
   ],
   "source": [
    "data, idxs = pp.split(data_test, kind = 'k-fold', shuffle = False, k = 3)\n",
    "print('First element returned is just the dataset (eventually reshuffled):')\n",
    "print(data)\n",
    "print('\\nThe second element returned is a list of tuple containing 2 index:')\n",
    "print(idxs)"
   ]
  },
  {
   "cell_type": "code",
   "execution_count": 17,
   "metadata": {},
   "outputs": [
    {
     "name": "stdout",
     "output_type": "stream",
     "text": [
      "In order to extract the fold (needed during the training) we can use:\n",
      "\n",
      "Fold 0\n",
      "Train dataset:\n",
      "[[ 6  7]\n",
      " [ 8  9]\n",
      " [10 11]\n",
      " [12 13]\n",
      " [14 15]\n",
      " [16 17]\n",
      " [18 19]]\n",
      "Validation dataset:\n",
      "[[0 1]\n",
      " [2 3]\n",
      " [4 5]]\n",
      "Do the train and validation stuff...\n",
      "\n",
      "Fold 1\n",
      "Train dataset:\n",
      "[[ 0  1]\n",
      " [ 2  3]\n",
      " [ 4  5]\n",
      " [12 13]\n",
      " [14 15]\n",
      " [16 17]\n",
      " [18 19]]\n",
      "Validation dataset:\n",
      "[[ 6  7]\n",
      " [ 8  9]\n",
      " [10 11]]\n",
      "Do the train and validation stuff...\n",
      "\n",
      "Fold 2\n",
      "Train dataset:\n",
      "[[ 0  1]\n",
      " [ 2  3]\n",
      " [ 4  5]\n",
      " [ 6  7]\n",
      " [ 8  9]\n",
      " [10 11]]\n",
      "Validation dataset:\n",
      "[[12 13]\n",
      " [14 15]\n",
      " [16 17]\n",
      " [18 19]]\n",
      "Do the train and validation stuff...\n"
     ]
    }
   ],
   "source": [
    "print('In order to extract the fold (needed during the training) we can use:')\n",
    "for i, (idx1, idx2) in enumerate(idxs):\n",
    "    print(f'\\nFold {i}')\n",
    "    print('Train dataset:')\n",
    "    training = np.delete(data, slice(idx1, idx2), axis = 0)\n",
    "    print(training)\n",
    "    print('Validation dataset:')\n",
    "    validation = data[idx1:idx2]\n",
    "    print(validation)\n",
    "    print('Do the train and validation stuff...')"
   ]
  }
 ],
 "metadata": {
  "kernelspec": {
   "display_name": "Python 3",
   "language": "python",
   "name": "python3"
  },
  "language_info": {
   "codemirror_mode": {
    "name": "ipython",
    "version": 3
   },
   "file_extension": ".py",
   "mimetype": "text/x-python",
   "name": "python",
   "nbconvert_exporter": "python",
   "pygments_lexer": "ipython3",
   "version": "3.8.10"
  }
 },
 "nbformat": 4,
 "nbformat_minor": 4
}
